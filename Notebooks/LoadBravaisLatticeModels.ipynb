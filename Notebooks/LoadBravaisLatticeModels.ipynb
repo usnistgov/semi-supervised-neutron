{
 "cells": [
  {
   "cell_type": "code",
   "execution_count": 1,
   "metadata": {},
   "outputs": [],
   "source": [
    "import torch\n",
    "import sys\n",
    "sys.path.append(\"../\")\n",
    "from Models.ResNet import ResnetClassifier\n",
    "from Data.Data import DiffractionDataset"
   ]
  },
  {
   "cell_type": "code",
   "execution_count": 2,
   "metadata": {},
   "outputs": [],
   "source": [
    "ds=DiffractionDataset(\"../Data/BravaisLattice_Data.pt\", categorical='Bravais Lattice')\n",
    "resnet=ResnetClassifier(num_classes=14)\n",
    "resnet.eval()\n",
    "models=torch.load('../Models/BravaisModels.pth')"
   ]
  },
  {
   "cell_type": "code",
   "execution_count": 3,
   "metadata": {},
   "outputs": [
    {
     "data": {
      "text/plain": [
       "<All keys matched successfully>"
      ]
     },
     "execution_count": 3,
     "metadata": {},
     "output_type": "execute_result"
    }
   ],
   "source": [
    "#Semi-supervised Model using 50% of the data for labeled training\n",
    "resnet.load_state_dict(models['SGAN'])"
   ]
  },
  {
   "cell_type": "code",
   "execution_count": 4,
   "metadata": {},
   "outputs": [
    {
     "name": "stdout",
     "output_type": "stream",
     "text": [
      "tensor([ 9,  0,  3,  5,  9, 13,  3,  0,  3, 11])\n",
      "tensor([ 9,  0,  3, 12,  9,  4,  3,  0,  3, 11])\n",
      "80.0\n"
     ]
    }
   ],
   "source": [
    "sgan_output=resnet(ds.data)\n",
    "print(sgan_output.predictions)\n",
    "print(ds.labels)\n",
    "print(sgan_output.accuracy(ds.labels))"
   ]
  },
  {
   "cell_type": "code",
   "execution_count": 5,
   "metadata": {
    "scrolled": true
   },
   "outputs": [
    {
     "name": "stdout",
     "output_type": "stream",
     "text": [
      "Index          True Label          Prediction\n",
      "  0     orthorhombic (P)     orthorhombic (P)\n",
      "  1            cubic (F)            cubic (F)\n",
      "  2        hexagonal (P)        hexagonal (P)\n",
      "  3       tetragonal (P)       monoclinic (P)\n",
      "  4     orthorhombic (P)     orthorhombic (P)\n",
      "  5       monoclinic (C)        triclinic (P)\n",
      "  6        hexagonal (P)        hexagonal (P)\n",
      "  7            cubic (F)            cubic (F)\n",
      "  8        hexagonal (P)        hexagonal (P)\n",
      "  9       tetragonal (I)       tetragonal (I)\n"
     ]
    }
   ],
   "source": [
    "ds.compare(sgan_output.predictions)"
   ]
  },
  {
   "cell_type": "code",
   "execution_count": 6,
   "metadata": {},
   "outputs": [
    {
     "data": {
      "text/plain": [
       "<All keys matched successfully>"
      ]
     },
     "execution_count": 6,
     "metadata": {},
     "output_type": "execute_result"
    }
   ],
   "source": [
    "#Supervised Model using 90% of the data\n",
    "resnet.load_state_dict(models['Supervised'])"
   ]
  },
  {
   "cell_type": "code",
   "execution_count": 7,
   "metadata": {},
   "outputs": [
    {
     "name": "stdout",
     "output_type": "stream",
     "text": [
      "tensor([12,  0,  3, 11,  9, 13,  3,  0,  3, 11])\n",
      "tensor([ 9,  0,  3, 12,  9,  4,  3,  0,  3, 11])\n",
      "70.0\n"
     ]
    }
   ],
   "source": [
    "supervised_output=resnet(ds.data)\n",
    "print(supervised_output.predictions)\n",
    "print(ds.labels)\n",
    "print(supervised_output.accuracy(ds.labels))"
   ]
  },
  {
   "cell_type": "code",
   "execution_count": 8,
   "metadata": {},
   "outputs": [
    {
     "name": "stdout",
     "output_type": "stream",
     "text": [
      "Index          True Label          Prediction\n",
      "  0     orthorhombic (P)       tetragonal (P)\n",
      "  1            cubic (F)            cubic (F)\n",
      "  2        hexagonal (P)        hexagonal (P)\n",
      "  3       tetragonal (P)       tetragonal (I)\n",
      "  4     orthorhombic (P)     orthorhombic (P)\n",
      "  5       monoclinic (C)        triclinic (P)\n",
      "  6        hexagonal (P)        hexagonal (P)\n",
      "  7            cubic (F)            cubic (F)\n",
      "  8        hexagonal (P)        hexagonal (P)\n",
      "  9       tetragonal (I)       tetragonal (I)\n"
     ]
    }
   ],
   "source": [
    "ds.compare(supervised_output.predictions)"
   ]
  },
  {
   "cell_type": "code",
   "execution_count": 9,
   "metadata": {},
   "outputs": [
    {
     "name": "stdout",
     "output_type": "stream",
     "text": [
      "Index          True Label                SGAN          Supervised\n",
      "  0     orthorhombic (P)     orthorhombic (P)       tetragonal (P)\n",
      "  1            cubic (F)            cubic (F)            cubic (F)\n",
      "  2        hexagonal (P)        hexagonal (P)        hexagonal (P)\n",
      "  3       tetragonal (P)       monoclinic (P)       tetragonal (I)\n",
      "  4     orthorhombic (P)     orthorhombic (P)     orthorhombic (P)\n",
      "  5       monoclinic (C)        triclinic (P)        triclinic (P)\n",
      "  6        hexagonal (P)        hexagonal (P)        hexagonal (P)\n",
      "  7            cubic (F)            cubic (F)            cubic (F)\n",
      "  8        hexagonal (P)        hexagonal (P)        hexagonal (P)\n",
      "  9       tetragonal (I)       tetragonal (I)       tetragonal (I)\n"
     ]
    }
   ],
   "source": [
    "ds.compare(sgan_output.predictions, supervised_output.predictions, ['SGAN', 'Supervised'])"
   ]
  }
 ],
 "metadata": {
  "kernelspec": {
   "display_name": "Python 3 (ipykernel)",
   "language": "python",
   "name": "python3"
  },
  "language_info": {
   "codemirror_mode": {
    "name": "ipython",
    "version": 3
   },
   "file_extension": ".py",
   "mimetype": "text/x-python",
   "name": "python",
   "nbconvert_exporter": "python",
   "pygments_lexer": "ipython3",
   "version": "3.9.0"
  }
 },
 "nbformat": 4,
 "nbformat_minor": 4
}
