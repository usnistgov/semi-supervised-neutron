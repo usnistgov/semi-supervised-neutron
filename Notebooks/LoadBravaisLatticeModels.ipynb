{
 "cells": [
  {
   "cell_type": "code",
   "execution_count": 1,
   "metadata": {},
   "outputs": [],
   "source": [
    "import torch\n",
    "import sys\n",
    "sys.path.append(\"../\")\n",
    "from Models.ResNet import ResnetConfig, ResnetClassifier\n",
    "from Data.Data import DiffractionDataset"
   ]
  },
  {
   "cell_type": "code",
   "execution_count": 2,
   "metadata": {},
   "outputs": [],
   "source": [
    "ds=DiffractionDataset(\"../Data/BravaisLattice_Data.pt\", categorical='Bravais Lattice')"
   ]
  },
  {
   "cell_type": "code",
   "execution_count": 3,
   "metadata": {},
   "outputs": [
    {
     "data": {
      "text/plain": [
       "<All keys matched successfully>"
      ]
     },
     "execution_count": 3,
     "metadata": {},
     "output_type": "execute_result"
    }
   ],
   "source": [
    "#Semi-supervised Model using 50% of the data for labeled training\n",
    "state_dict=torch.load(\"../Models/Bravais_model_SGAN.pth\")\n",
    "config = ResnetConfig(\n",
    "        input_dim = 1,\n",
    "        output_dim = 14,\n",
    "        res_dims=[32, 64, 64, 64],\n",
    "        res_kernel=[5, 7, 17, 13],\n",
    "        res_stride=[4, 4, 5, 3],\n",
    "        num_blocks=[2, 2, 2, 2],\n",
    "        first_kernel_size = 13,\n",
    "        first_stride = 1,\n",
    "        first_pool_kernel_size = 7,\n",
    "        first_pool_stride = 7,\n",
    "    )\n",
    "net=ResnetClassifier(config)\n",
    "net.eval().float()\n",
    "net.load_state_dict(state_dict['model_state_dict'])"
   ]
  },
  {
   "cell_type": "code",
   "execution_count": 4,
   "metadata": {},
   "outputs": [
    {
     "name": "stdout",
     "output_type": "stream",
     "text": [
      "tensor([ 9,  0,  3,  5,  9, 13,  3,  0,  3, 11])\n",
      "tensor([ 9,  0,  3, 12,  9,  4,  3,  0,  3, 11])\n"
     ]
    }
   ],
   "source": [
    "logits=net(ds.data).logits\n",
    "predictions=torch.flatten(torch.argmax(logits, dim=-1))\n",
    "print(predictions)\n",
    "print(ds.labels)"
   ]
  },
  {
   "cell_type": "code",
   "execution_count": 5,
   "metadata": {
    "scrolled": true
   },
   "outputs": [
    {
     "name": "stdout",
     "output_type": "stream",
     "text": [
      "Index          True Label          Prediction\n",
      "  0     orthorhombic (P)     orthorhombic (P)\n",
      "  1            cubic (F)            cubic (F)\n",
      "  2        hexagonal (P)        hexagonal (P)\n",
      "  3       tetragonal (P)       monoclinic (P)\n",
      "  4     orthorhombic (P)     orthorhombic (P)\n",
      "  5       monoclinic (C)        triclinic (P)\n",
      "  6        hexagonal (P)        hexagonal (P)\n",
      "  7            cubic (F)            cubic (F)\n",
      "  8        hexagonal (P)        hexagonal (P)\n",
      "  9       tetragonal (I)       tetragonal (I)\n"
     ]
    }
   ],
   "source": [
    "ds.compare(predictions)"
   ]
  },
  {
   "cell_type": "code",
   "execution_count": 6,
   "metadata": {},
   "outputs": [
    {
     "name": "stdout",
     "output_type": "stream",
     "text": [
      "tensor(0.8000)\n"
     ]
    }
   ],
   "source": [
    "accuracy=(torch.sum((predictions==ds.labels))/len(predictions))\n",
    "print(accuracy)"
   ]
  },
  {
   "cell_type": "code",
   "execution_count": 7,
   "metadata": {},
   "outputs": [
    {
     "data": {
      "text/plain": [
       "<All keys matched successfully>"
      ]
     },
     "execution_count": 7,
     "metadata": {},
     "output_type": "execute_result"
    }
   ],
   "source": [
    "#Supervised Model using 90% of the data\n",
    "supervised=ResnetClassifier(config)\n",
    "supervised.eval().float()\n",
    "state_dict=torch.load(\"../Models/Bravais_model_supervised.pth\")\n",
    "supervised.load_state_dict(state_dict['model_state_dict'])"
   ]
  },
  {
   "cell_type": "code",
   "execution_count": 8,
   "metadata": {},
   "outputs": [
    {
     "name": "stdout",
     "output_type": "stream",
     "text": [
      "tensor([12,  0,  3, 11,  9, 13,  3,  0,  3, 11])\n",
      "tensor([ 9,  0,  3, 12,  9,  4,  3,  0,  3, 11])\n"
     ]
    }
   ],
   "source": [
    "logits=supervised(ds.data).logits\n",
    "supervised_predictions=torch.flatten(torch.argmax(logits, dim=-1))\n",
    "print(supervised_predictions)\n",
    "print(ds.labels)"
   ]
  },
  {
   "cell_type": "code",
   "execution_count": 9,
   "metadata": {},
   "outputs": [
    {
     "name": "stdout",
     "output_type": "stream",
     "text": [
      "Index          True Label          Prediction\n",
      "  0     orthorhombic (P)       tetragonal (P)\n",
      "  1            cubic (F)            cubic (F)\n",
      "  2        hexagonal (P)        hexagonal (P)\n",
      "  3       tetragonal (P)       tetragonal (I)\n",
      "  4     orthorhombic (P)     orthorhombic (P)\n",
      "  5       monoclinic (C)        triclinic (P)\n",
      "  6        hexagonal (P)        hexagonal (P)\n",
      "  7            cubic (F)            cubic (F)\n",
      "  8        hexagonal (P)        hexagonal (P)\n",
      "  9       tetragonal (I)       tetragonal (I)\n"
     ]
    }
   ],
   "source": [
    "ds.compare(supervised_predictions)"
   ]
  },
  {
   "cell_type": "code",
   "execution_count": 10,
   "metadata": {},
   "outputs": [
    {
     "name": "stdout",
     "output_type": "stream",
     "text": [
      "tensor(0.7000)\n"
     ]
    }
   ],
   "source": [
    "accuracy=(torch.sum((supervised_predictions==ds.labels))/len(predictions))\n",
    "print(accuracy)"
   ]
  }
 ],
 "metadata": {
  "kernelspec": {
   "display_name": "Python 3 (ipykernel)",
   "language": "python",
   "name": "python3"
  },
  "language_info": {
   "codemirror_mode": {
    "name": "ipython",
    "version": 3
   },
   "file_extension": ".py",
   "mimetype": "text/x-python",
   "name": "python",
   "nbconvert_exporter": "python",
   "pygments_lexer": "ipython3",
   "version": "3.9.0"
  }
 },
 "nbformat": 4,
 "nbformat_minor": 4
}
