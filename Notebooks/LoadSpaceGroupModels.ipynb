{
 "cells": [
  {
   "cell_type": "code",
   "execution_count": 1,
   "metadata": {},
   "outputs": [],
   "source": [
    "import torch\n",
    "import sys\n",
    "sys.path.append('../')\n",
    "from Models.ResNet import ResnetConfig, ResnetClassifier\n",
    "from Data.Data import DiffractionDataset"
   ]
  },
  {
   "cell_type": "code",
   "execution_count": 2,
   "metadata": {},
   "outputs": [],
   "source": [
    "ds=DiffractionDataset(\"../Data/SpaceGroup_Data.pt\", categorical='Space Group')"
   ]
  },
  {
   "cell_type": "code",
   "execution_count": 3,
   "metadata": {},
   "outputs": [
    {
     "data": {
      "text/plain": [
       "<All keys matched successfully>"
      ]
     },
     "execution_count": 3,
     "metadata": {},
     "output_type": "execute_result"
    }
   ],
   "source": [
    "#Semi-supervised Model using 50% of the data for labeled training\n",
    "state_dict=torch.load(\"../Models/Space_Group_model_SGAN.pth\")\n",
    "config = ResnetConfig(\n",
    "        input_dim = 1,\n",
    "        output_dim = 144,\n",
    "        res_dims=[32, 64, 64, 64],\n",
    "        res_kernel=[5, 7, 17, 13],\n",
    "        res_stride=[4, 4, 5, 3],\n",
    "        num_blocks=[2, 2, 2, 2],\n",
    "        first_kernel_size = 13,\n",
    "        first_stride = 1,\n",
    "        first_pool_kernel_size = 7,\n",
    "        first_pool_stride = 7,\n",
    "    )\n",
    "net=ResnetClassifier(config)\n",
    "net.eval().float()\n",
    "net.load_state_dict(state_dict['discriminator'])"
   ]
  },
  {
   "cell_type": "code",
   "execution_count": 4,
   "metadata": {},
   "outputs": [
    {
     "name": "stdout",
     "output_type": "stream",
     "text": [
      "tensor([ 70,  10,  97,  49,   1,   0, 139,  11,  53, 119])\n",
      "tensor([ 70,  25,  97,  49,  42,   1, 139,  10,  53, 119])\n"
     ]
    }
   ],
   "source": [
    "logits=net(ds.data).logits\n",
    "predictions=torch.flatten(torch.argmax(logits, dim=-1))\n",
    "print(predictions)\n",
    "print(ds.labels)"
   ]
  },
  {
   "cell_type": "code",
   "execution_count": 5,
   "metadata": {},
   "outputs": [
    {
     "name": "stdout",
     "output_type": "stream",
     "text": [
      "Index          True Label          Prediction\n",
      "  0                  123                  123\n",
      "  1                   41                   12\n",
      "  2                  160                  160\n",
      "  3                   70                   70\n",
      "  4                   62                    2\n",
      "  5                    2                    1\n",
      "  6                  225                  225\n",
      "  7                   12                   13\n",
      "  8                   74                   74\n",
      "  9                  194                  194\n"
     ]
    }
   ],
   "source": [
    "ds.compare(predictions)"
   ]
  },
  {
   "cell_type": "code",
   "execution_count": 6,
   "metadata": {},
   "outputs": [
    {
     "name": "stdout",
     "output_type": "stream",
     "text": [
      "tensor(0.6000)\n"
     ]
    }
   ],
   "source": [
    "accuracy=(torch.sum((predictions==ds.labels))/len(predictions))\n",
    "print(accuracy)"
   ]
  },
  {
   "cell_type": "code",
   "execution_count": 7,
   "metadata": {},
   "outputs": [
    {
     "name": "stdout",
     "output_type": "stream",
     "text": [
      "tensor([[[ 70,  31,  61, 136,  75]],\n",
      "\n",
      "        [[ 10,   9,  11,   6,   1]],\n",
      "\n",
      "        [[ 97,  87,   0,  47,  62]],\n",
      "\n",
      "        [[ 49,  83,  79,  91,  32]],\n",
      "\n",
      "        [[  1,  12,  10,  42,  13]],\n",
      "\n",
      "        [[  0,   1,   5,  12,  27]],\n",
      "\n",
      "        [[139, 132,   0, 103, 136]],\n",
      "\n",
      "        [[ 11,  89,  76,  50,  96]],\n",
      "\n",
      "        [[ 53,  10,  13,  50,  12]],\n",
      "\n",
      "        [[119, 100, 103, 112, 110]]])\n",
      "tensor(0.8000)\n"
     ]
    }
   ],
   "source": [
    "top_5_preds=torch.topk(logits, dim=-1, k=5).indices\n",
    "print(top_5_preds)\n",
    "labels=torch.unsqueeze(ds.labels,dim=-1)\n",
    "labels=torch.cat((labels, labels, labels, labels, labels),-1)\n",
    "labels=torch.unsqueeze(labels,dim=1)\n",
    "top_5_acc=torch.sum(top_5_preds==labels)/labels.shape[0]\n",
    "print(top_5_acc)"
   ]
  },
  {
   "cell_type": "code",
   "execution_count": 8,
   "metadata": {},
   "outputs": [
    {
     "data": {
      "text/plain": [
       "<All keys matched successfully>"
      ]
     },
     "execution_count": 8,
     "metadata": {},
     "output_type": "execute_result"
    }
   ],
   "source": [
    "#Supervised Model using 90% of the data\n",
    "supervised=ResnetClassifier(config)\n",
    "supervised.eval().float()\n",
    "state_dict=torch.load(\"../Models/Space_Group_model_supervised.pth\")\n",
    "supervised.load_state_dict(state_dict['model_state_dict'])"
   ]
  },
  {
   "cell_type": "code",
   "execution_count": 9,
   "metadata": {},
   "outputs": [
    {
     "name": "stdout",
     "output_type": "stream",
     "text": [
      "tensor([ 70,   6,  97,  49,   1,   1, 139,  71,  53, 119])\n",
      "tensor([ 70,  25,  97,  49,  42,   1, 139,  10,  53, 119])\n"
     ]
    }
   ],
   "source": [
    "supervised_logits=supervised(ds.data).logits\n",
    "supervised_predictions=torch.flatten(torch.argmax(supervised_logits, dim=-1))\n",
    "print(supervised_predictions)\n",
    "print(ds.labels)"
   ]
  },
  {
   "cell_type": "code",
   "execution_count": 10,
   "metadata": {},
   "outputs": [
    {
     "name": "stdout",
     "output_type": "stream",
     "text": [
      "tensor(0.7000)\n"
     ]
    }
   ],
   "source": [
    "accuracy=(torch.sum((supervised_predictions==ds.labels))/len(supervised_predictions))\n",
    "print(accuracy)"
   ]
  },
  {
   "cell_type": "code",
   "execution_count": 11,
   "metadata": {},
   "outputs": [
    {
     "name": "stdout",
     "output_type": "stream",
     "text": [
      "tensor([[[ 70,  31,  45,  61,  82]],\n",
      "\n",
      "        [[  6,  10,   3,  12,  27]],\n",
      "\n",
      "        [[ 97,   0,  87,  94,   6]],\n",
      "\n",
      "        [[ 49,  91, 130,  89,   7]],\n",
      "\n",
      "        [[  1,  42,  12,  13,  59]],\n",
      "\n",
      "        [[  1,  11,  13,   9,   0]],\n",
      "\n",
      "        [[139, 132,  97,  50, 127]],\n",
      "\n",
      "        [[ 71,  57,  76,  87, 126]],\n",
      "\n",
      "        [[ 53,  30,  50,  28,  67]],\n",
      "\n",
      "        [[119, 100, 101, 115, 108]]])\n",
      "tensor(0.8000)\n"
     ]
    }
   ],
   "source": [
    "supervised_top_5_preds=torch.topk(supervised_logits, dim=-1, k=5).indices\n",
    "print(supervised_top_5_preds)\n",
    "labels=torch.unsqueeze(ds.labels,dim=-1) \n",
    "labels=torch.cat((labels, labels, labels, labels, labels),-1)\n",
    "labels=torch.unsqueeze(labels,dim=1)\n",
    "supervised_top_5_acc=torch.sum(supervised_top_5_preds==labels)/labels.shape[0]\n",
    "print(supervised_top_5_acc)"
   ]
  },
  {
   "cell_type": "code",
   "execution_count": 12,
   "metadata": {},
   "outputs": [
    {
     "name": "stdout",
     "output_type": "stream",
     "text": [
      "Index          True Label          Prediction\n",
      "  0                  123                  123\n",
      "  1                   41                    8\n",
      "  2                  160                  160\n",
      "  3                   70                   70\n",
      "  4                   62                    2\n",
      "  5                    2                    2\n",
      "  6                  225                  225\n",
      "  7                   12                  125\n",
      "  8                   74                   74\n",
      "  9                  194                  194\n"
     ]
    }
   ],
   "source": [
    "ds.compare(supervised_predictions)"
   ]
  }
 ],
 "metadata": {
  "kernelspec": {
   "display_name": "Python 3 (ipykernel)",
   "language": "python",
   "name": "python3"
  },
  "language_info": {
   "codemirror_mode": {
    "name": "ipython",
    "version": 3
   },
   "file_extension": ".py",
   "mimetype": "text/x-python",
   "name": "python",
   "nbconvert_exporter": "python",
   "pygments_lexer": "ipython3",
   "version": "3.9.0"
  }
 },
 "nbformat": 4,
 "nbformat_minor": 4
}
